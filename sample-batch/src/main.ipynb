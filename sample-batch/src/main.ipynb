{
 "cells": [
  {
   "cell_type": "code",
   "execution_count": 4,
   "metadata": {},
   "outputs": [],
   "source": [
    "import os\n",
    "from main import run\n"
   ]
  },
  {
   "cell_type": "code",
   "execution_count": 5,
   "metadata": {},
   "outputs": [
    {
     "name": "stdout",
     "output_type": "stream",
     "text": [
      "Hello World! from main.ipynb\n"
     ]
    }
   ],
   "source": [
    "print(\"Hello World! from main.ipynb\")\n"
   ]
  },
  {
   "cell_type": "code",
   "execution_count": 6,
   "metadata": {},
   "outputs": [
    {
     "name": "stdout",
     "output_type": "stream",
     "text": [
      "Hello World from main.py\n",
      "1.26.1\n"
     ]
    },
    {
     "ename": "RuntimeError",
     "evalue": "Error from main.py by raise_error=True",
     "output_type": "error",
     "traceback": [
      "\u001b[0;31m---------------------------------------------------------------------------\u001b[0m",
      "\u001b[0;31mRuntimeError\u001b[0m                              Traceback (most recent call last)",
      "\u001b[1;32m/Users/haru256/Documents/projects/schedule-pannel/sample-batch/src/main.ipynb Cell 3\u001b[0m line \u001b[0;36m2\n\u001b[1;32m      <a href='vscode-notebook-cell:/Users/haru256/Documents/projects/schedule-pannel/sample-batch/src/main.ipynb#W2sZmlsZQ%3D%3D?line=0'>1</a>\u001b[0m raise_error \u001b[39m=\u001b[39m \u001b[39mint\u001b[39m(os\u001b[39m.\u001b[39mgetenv(\u001b[39m\"\u001b[39m\u001b[39mRAISE_ERROR\u001b[39m\u001b[39m\"\u001b[39m, \u001b[39m1\u001b[39m))\n\u001b[0;32m----> <a href='vscode-notebook-cell:/Users/haru256/Documents/projects/schedule-pannel/sample-batch/src/main.ipynb#W2sZmlsZQ%3D%3D?line=1'>2</a>\u001b[0m run(raise_error)\n",
      "File \u001b[0;32m~/Documents/projects/schedule-pannel/sample-batch/src/main.py:8\u001b[0m, in \u001b[0;36mrun\u001b[0;34m(raise_error)\u001b[0m\n\u001b[1;32m      6\u001b[0m \u001b[39mprint\u001b[39m(np\u001b[39m.\u001b[39m__version__)\n\u001b[1;32m      7\u001b[0m \u001b[39mif\u001b[39;00m raise_error \u001b[39m>\u001b[39m \u001b[39m0\u001b[39m:\n\u001b[0;32m----> 8\u001b[0m     \u001b[39mraise\u001b[39;00m \u001b[39mRuntimeError\u001b[39;00m(\u001b[39m\"\u001b[39m\u001b[39mError from main.py by raise_error=True\u001b[39m\u001b[39m\"\u001b[39m)\n",
      "\u001b[0;31mRuntimeError\u001b[0m: Error from main.py by raise_error=True"
     ]
    }
   ],
   "source": [
    "raise_error = int(os.getenv(\"RAISE_ERROR\", 0))\n",
    "run(raise_error)\n"
   ]
  }
 ],
 "metadata": {
  "kernelspec": {
   "display_name": ".venv",
   "language": "python",
   "name": "python3"
  },
  "language_info": {
   "codemirror_mode": {
    "name": "ipython",
    "version": 3
   },
   "file_extension": ".py",
   "mimetype": "text/x-python",
   "name": "python",
   "nbconvert_exporter": "python",
   "pygments_lexer": "ipython3",
   "version": "3.11.5"
  }
 },
 "nbformat": 4,
 "nbformat_minor": 2
}
